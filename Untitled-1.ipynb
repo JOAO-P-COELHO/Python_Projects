{
 "cells": [
  {
   "cell_type": "code",
   "execution_count": 4,
   "metadata": {},
   "outputs": [
    {
     "name": "stdout",
     "output_type": "stream",
     "text": [
      "ganhas 121.0\n"
     ]
    }
   ],
   "source": [
    "hours = input (\"horas?\")\n",
    "rate = input (\"valor hora?\")\n",
    "\n",
    "print (\"ganhas\", float(hours)*float(rate))\n",
    "\n"
   ]
  },
  {
   "cell_type": "code",
   "execution_count": 9,
   "metadata": {},
   "outputs": [
    {
     "name": "stdout",
     "output_type": "stream",
     "text": [
      "a minha idade é 70\n",
      "a minha morada é: rua x\n"
     ]
    }
   ],
   "source": [
    "idade = 70\n",
    "print (f\"a minha idade é {idade}\")\n",
    "\n",
    "morada =\"rua x\"\n",
    "print (\"a minha morada é: {}\".format(morada))"
   ]
  },
  {
   "cell_type": "code",
   "execution_count": 20,
   "metadata": {},
   "outputs": [
    {
     "name": "stdout",
     "output_type": "stream",
     "text": [
      "Y\n",
      "y\n",
      "YDSADA\n"
     ]
    }
   ],
   "source": [
    "nome_ficheiro = input(\"que nome queres dar ao ficheiro??\")\n",
    "conteudo = input (\"que dados queres colocar no teu ficheiro?\")\n",
    "\n",
    "with open(nome_ficheiro,\"w\") as ficheiro:\n",
    "    ficheiro.write(conteudo)\n",
    "\n",
    "escolha = input (\"queres abrir o ficheiro? y ou n?\")\n",
    "print(escolha)\n",
    "escolha = escolha.lower()\n",
    "print(escolha)\n",
    "\n",
    "if escolha == \"y\":\n",
    "    with open(nome_ficheiro,\"r\") as ficheiro:\n",
    "        print(ficheiro.read())\n",
    "else:\n",
    "    print(\"escolhe outra opção\")"
   ]
  },
  {
   "cell_type": "code",
   "execution_count": 29,
   "metadata": {},
   "outputs": [
    {
     "name": "stdout",
     "output_type": "stream",
     "text": [
      "Olá, cenas\n",
      "Como estás, cenas?\n"
     ]
    }
   ],
   "source": [
    "# Como faço o nesting de funções? # Faço a minha primeira função, meto outra lá dentro e CHAMO essa segunda função.\n",
    "# Não preciso de colocar argumento na 2.ª função, se é o mesmo, ela sabe onde onde tem de ir buscar.\n",
    "\n",
    "def funcao1(name=\"cenas\"):\n",
    "    print(f\"Olá, {name}\")\n",
    "    def funcao2():\n",
    "        print(f\"Como estás, {name}?\")\n",
    "    funcao2()\n",
    "\n",
    "funcao1(\"João\")"
   ]
  },
  {
   "cell_type": "code",
   "execution_count": null,
   "metadata": {},
   "outputs": [
    {
     "name": "stdout",
     "output_type": "stream",
     "text": [
      "200\n",
      "404\n",
      "erro\n",
      "200\n",
      "404\n",
      "erro\n",
      "404\n",
      "erro\n",
      "200\n",
      "200\n",
      "200\n",
      "200\n",
      "503\n",
      "erro\n",
      "200\n",
      "200\n",
      "404\n",
      "erro\n",
      "200\n",
      "200\n",
      "200\n",
      "404\n",
      "erro\n",
      "200\n",
      "200\n",
      "503\n",
      "erro\n",
      "200\n",
      "404\n",
      "erro\n",
      "200\n",
      "404\n",
      "erro\n",
      "200\n",
      "503\n",
      "erro\n",
      "200\n",
      "200\n",
      "200\n",
      "404\n",
      "erro\n",
      "200\n",
      "200\n",
      "200\n",
      "200\n"
     ]
    },
    {
     "ename": "KeyboardInterrupt",
     "evalue": "",
     "output_type": "error",
     "traceback": [
      "\u001b[1;31m---------------------------------------------------------------------------\u001b[0m",
      "\u001b[1;31mKeyboardInterrupt\u001b[0m                         Traceback (most recent call last)",
      "\u001b[1;32mc:\\Users\\João C\\Documents\\GitHub\\Python\\Untitled-1.ipynb Cell 5\u001b[0m line \u001b[0;36m5\n\u001b[0;32m      <a href='vscode-notebook-cell:/c%3A/Users/Jo%C3%A3o%20C/Documents/GitHub/Python/Untitled-1.ipynb#X10sZmlsZQ%3D%3D?line=1'>2</a>\u001b[0m \u001b[39mimport\u001b[39;00m \u001b[39mtime\u001b[39;00m\n\u001b[0;32m      <a href='vscode-notebook-cell:/c%3A/Users/Jo%C3%A3o%20C/Documents/GitHub/Python/Untitled-1.ipynb#X10sZmlsZQ%3D%3D?line=3'>4</a>\u001b[0m \u001b[39mwhile\u001b[39;00m \u001b[39mTrue\u001b[39;00m:\n\u001b[1;32m----> <a href='vscode-notebook-cell:/c%3A/Users/Jo%C3%A3o%20C/Documents/GitHub/Python/Untitled-1.ipynb#X10sZmlsZQ%3D%3D?line=4'>5</a>\u001b[0m     req \u001b[39m=\u001b[39m requests\u001b[39m.\u001b[39;49mget(\u001b[39m\"\u001b[39;49m\u001b[39mhttps://www.amazon.com.br/asdasda-adasdasd-English-asdasdas-asdasdasd-ebook/dp/B07Q394C2Gdd\u001b[39;49m\u001b[39m\"\u001b[39;49m)\n\u001b[0;32m      <a href='vscode-notebook-cell:/c%3A/Users/Jo%C3%A3o%20C/Documents/GitHub/Python/Untitled-1.ipynb#X10sZmlsZQ%3D%3D?line=5'>6</a>\u001b[0m     \u001b[39mprint\u001b[39m(req\u001b[39m.\u001b[39mstatus_code)\n\u001b[0;32m      <a href='vscode-notebook-cell:/c%3A/Users/Jo%C3%A3o%20C/Documents/GitHub/Python/Untitled-1.ipynb#X10sZmlsZQ%3D%3D?line=6'>7</a>\u001b[0m     \u001b[39mif\u001b[39;00m req\u001b[39m.\u001b[39mstatus_code \u001b[39m!=\u001b[39m\u001b[39m200\u001b[39m:\n",
      "File \u001b[1;32m~\\AppData\\Roaming\\Python\\Python312\\site-packages\\requests\\api.py:73\u001b[0m, in \u001b[0;36mget\u001b[1;34m(url, params, **kwargs)\u001b[0m\n\u001b[0;32m     62\u001b[0m \u001b[39mdef\u001b[39;00m \u001b[39mget\u001b[39m(url, params\u001b[39m=\u001b[39m\u001b[39mNone\u001b[39;00m, \u001b[39m*\u001b[39m\u001b[39m*\u001b[39mkwargs):\n\u001b[0;32m     63\u001b[0m \u001b[39m    \u001b[39m\u001b[39mr\u001b[39m\u001b[39m\"\"\"Sends a GET request.\u001b[39;00m\n\u001b[0;32m     64\u001b[0m \n\u001b[0;32m     65\u001b[0m \u001b[39m    :param url: URL for the new :class:`Request` object.\u001b[39;00m\n\u001b[1;32m   (...)\u001b[0m\n\u001b[0;32m     70\u001b[0m \u001b[39m    :rtype: requests.Response\u001b[39;00m\n\u001b[0;32m     71\u001b[0m \u001b[39m    \"\"\"\u001b[39;00m\n\u001b[1;32m---> 73\u001b[0m     \u001b[39mreturn\u001b[39;00m request(\u001b[39m\"\u001b[39;49m\u001b[39mget\u001b[39;49m\u001b[39m\"\u001b[39;49m, url, params\u001b[39m=\u001b[39;49mparams, \u001b[39m*\u001b[39;49m\u001b[39m*\u001b[39;49mkwargs)\n",
      "File \u001b[1;32m~\\AppData\\Roaming\\Python\\Python312\\site-packages\\requests\\api.py:59\u001b[0m, in \u001b[0;36mrequest\u001b[1;34m(method, url, **kwargs)\u001b[0m\n\u001b[0;32m     55\u001b[0m \u001b[39m# By using the 'with' statement we are sure the session is closed, thus we\u001b[39;00m\n\u001b[0;32m     56\u001b[0m \u001b[39m# avoid leaving sockets open which can trigger a ResourceWarning in some\u001b[39;00m\n\u001b[0;32m     57\u001b[0m \u001b[39m# cases, and look like a memory leak in others.\u001b[39;00m\n\u001b[0;32m     58\u001b[0m \u001b[39mwith\u001b[39;00m sessions\u001b[39m.\u001b[39mSession() \u001b[39mas\u001b[39;00m session:\n\u001b[1;32m---> 59\u001b[0m     \u001b[39mreturn\u001b[39;00m session\u001b[39m.\u001b[39;49mrequest(method\u001b[39m=\u001b[39;49mmethod, url\u001b[39m=\u001b[39;49murl, \u001b[39m*\u001b[39;49m\u001b[39m*\u001b[39;49mkwargs)\n",
      "File \u001b[1;32m~\\AppData\\Roaming\\Python\\Python312\\site-packages\\requests\\sessions.py:589\u001b[0m, in \u001b[0;36mSession.request\u001b[1;34m(self, method, url, params, data, headers, cookies, files, auth, timeout, allow_redirects, proxies, hooks, stream, verify, cert, json)\u001b[0m\n\u001b[0;32m    584\u001b[0m send_kwargs \u001b[39m=\u001b[39m {\n\u001b[0;32m    585\u001b[0m     \u001b[39m\"\u001b[39m\u001b[39mtimeout\u001b[39m\u001b[39m\"\u001b[39m: timeout,\n\u001b[0;32m    586\u001b[0m     \u001b[39m\"\u001b[39m\u001b[39mallow_redirects\u001b[39m\u001b[39m\"\u001b[39m: allow_redirects,\n\u001b[0;32m    587\u001b[0m }\n\u001b[0;32m    588\u001b[0m send_kwargs\u001b[39m.\u001b[39mupdate(settings)\n\u001b[1;32m--> 589\u001b[0m resp \u001b[39m=\u001b[39m \u001b[39mself\u001b[39;49m\u001b[39m.\u001b[39;49msend(prep, \u001b[39m*\u001b[39;49m\u001b[39m*\u001b[39;49msend_kwargs)\n\u001b[0;32m    591\u001b[0m \u001b[39mreturn\u001b[39;00m resp\n",
      "File \u001b[1;32m~\\AppData\\Roaming\\Python\\Python312\\site-packages\\requests\\sessions.py:725\u001b[0m, in \u001b[0;36mSession.send\u001b[1;34m(self, request, **kwargs)\u001b[0m\n\u001b[0;32m    722\u001b[0m \u001b[39mif\u001b[39;00m allow_redirects:\n\u001b[0;32m    723\u001b[0m     \u001b[39m# Redirect resolving generator.\u001b[39;00m\n\u001b[0;32m    724\u001b[0m     gen \u001b[39m=\u001b[39m \u001b[39mself\u001b[39m\u001b[39m.\u001b[39mresolve_redirects(r, request, \u001b[39m*\u001b[39m\u001b[39m*\u001b[39mkwargs)\n\u001b[1;32m--> 725\u001b[0m     history \u001b[39m=\u001b[39m [resp \u001b[39mfor\u001b[39;49;00m resp \u001b[39min\u001b[39;49;00m gen]\n\u001b[0;32m    726\u001b[0m \u001b[39melse\u001b[39;00m:\n\u001b[0;32m    727\u001b[0m     history \u001b[39m=\u001b[39m []\n",
      "File \u001b[1;32m~\\AppData\\Roaming\\Python\\Python312\\site-packages\\requests\\sessions.py:266\u001b[0m, in \u001b[0;36mSessionRedirectMixin.resolve_redirects\u001b[1;34m(self, resp, req, stream, timeout, verify, cert, proxies, yield_requests, **adapter_kwargs)\u001b[0m\n\u001b[0;32m    263\u001b[0m     \u001b[39myield\u001b[39;00m req\n\u001b[0;32m    264\u001b[0m \u001b[39melse\u001b[39;00m:\n\u001b[1;32m--> 266\u001b[0m     resp \u001b[39m=\u001b[39m \u001b[39mself\u001b[39;49m\u001b[39m.\u001b[39;49msend(\n\u001b[0;32m    267\u001b[0m         req,\n\u001b[0;32m    268\u001b[0m         stream\u001b[39m=\u001b[39;49mstream,\n\u001b[0;32m    269\u001b[0m         timeout\u001b[39m=\u001b[39;49mtimeout,\n\u001b[0;32m    270\u001b[0m         verify\u001b[39m=\u001b[39;49mverify,\n\u001b[0;32m    271\u001b[0m         cert\u001b[39m=\u001b[39;49mcert,\n\u001b[0;32m    272\u001b[0m         proxies\u001b[39m=\u001b[39;49mproxies,\n\u001b[0;32m    273\u001b[0m         allow_redirects\u001b[39m=\u001b[39;49m\u001b[39mFalse\u001b[39;49;00m,\n\u001b[0;32m    274\u001b[0m         \u001b[39m*\u001b[39;49m\u001b[39m*\u001b[39;49madapter_kwargs,\n\u001b[0;32m    275\u001b[0m     )\n\u001b[0;32m    277\u001b[0m     extract_cookies_to_jar(\u001b[39mself\u001b[39m\u001b[39m.\u001b[39mcookies, prepared_request, resp\u001b[39m.\u001b[39mraw)\n\u001b[0;32m    279\u001b[0m     \u001b[39m# extract redirect url, if any, for the next loop\u001b[39;00m\n",
      "File \u001b[1;32m~\\AppData\\Roaming\\Python\\Python312\\site-packages\\requests\\sessions.py:703\u001b[0m, in \u001b[0;36mSession.send\u001b[1;34m(self, request, **kwargs)\u001b[0m\n\u001b[0;32m    700\u001b[0m start \u001b[39m=\u001b[39m preferred_clock()\n\u001b[0;32m    702\u001b[0m \u001b[39m# Send the request\u001b[39;00m\n\u001b[1;32m--> 703\u001b[0m r \u001b[39m=\u001b[39m adapter\u001b[39m.\u001b[39;49msend(request, \u001b[39m*\u001b[39;49m\u001b[39m*\u001b[39;49mkwargs)\n\u001b[0;32m    705\u001b[0m \u001b[39m# Total elapsed time of the request (approximately)\u001b[39;00m\n\u001b[0;32m    706\u001b[0m elapsed \u001b[39m=\u001b[39m preferred_clock() \u001b[39m-\u001b[39m start\n",
      "File \u001b[1;32m~\\AppData\\Roaming\\Python\\Python312\\site-packages\\requests\\adapters.py:486\u001b[0m, in \u001b[0;36mHTTPAdapter.send\u001b[1;34m(self, request, stream, timeout, verify, cert, proxies)\u001b[0m\n\u001b[0;32m    483\u001b[0m     timeout \u001b[39m=\u001b[39m TimeoutSauce(connect\u001b[39m=\u001b[39mtimeout, read\u001b[39m=\u001b[39mtimeout)\n\u001b[0;32m    485\u001b[0m \u001b[39mtry\u001b[39;00m:\n\u001b[1;32m--> 486\u001b[0m     resp \u001b[39m=\u001b[39m conn\u001b[39m.\u001b[39;49murlopen(\n\u001b[0;32m    487\u001b[0m         method\u001b[39m=\u001b[39;49mrequest\u001b[39m.\u001b[39;49mmethod,\n\u001b[0;32m    488\u001b[0m         url\u001b[39m=\u001b[39;49murl,\n\u001b[0;32m    489\u001b[0m         body\u001b[39m=\u001b[39;49mrequest\u001b[39m.\u001b[39;49mbody,\n\u001b[0;32m    490\u001b[0m         headers\u001b[39m=\u001b[39;49mrequest\u001b[39m.\u001b[39;49mheaders,\n\u001b[0;32m    491\u001b[0m         redirect\u001b[39m=\u001b[39;49m\u001b[39mFalse\u001b[39;49;00m,\n\u001b[0;32m    492\u001b[0m         assert_same_host\u001b[39m=\u001b[39;49m\u001b[39mFalse\u001b[39;49;00m,\n\u001b[0;32m    493\u001b[0m         preload_content\u001b[39m=\u001b[39;49m\u001b[39mFalse\u001b[39;49;00m,\n\u001b[0;32m    494\u001b[0m         decode_content\u001b[39m=\u001b[39;49m\u001b[39mFalse\u001b[39;49;00m,\n\u001b[0;32m    495\u001b[0m         retries\u001b[39m=\u001b[39;49m\u001b[39mself\u001b[39;49m\u001b[39m.\u001b[39;49mmax_retries,\n\u001b[0;32m    496\u001b[0m         timeout\u001b[39m=\u001b[39;49mtimeout,\n\u001b[0;32m    497\u001b[0m         chunked\u001b[39m=\u001b[39;49mchunked,\n\u001b[0;32m    498\u001b[0m     )\n\u001b[0;32m    500\u001b[0m \u001b[39mexcept\u001b[39;00m (ProtocolError, \u001b[39mOSError\u001b[39;00m) \u001b[39mas\u001b[39;00m err:\n\u001b[0;32m    501\u001b[0m     \u001b[39mraise\u001b[39;00m \u001b[39mConnectionError\u001b[39;00m(err, request\u001b[39m=\u001b[39mrequest)\n",
      "File \u001b[1;32m~\\AppData\\Roaming\\Python\\Python312\\site-packages\\urllib3\\connectionpool.py:791\u001b[0m, in \u001b[0;36mHTTPConnectionPool.urlopen\u001b[1;34m(self, method, url, body, headers, retries, redirect, assert_same_host, timeout, pool_timeout, release_conn, chunked, body_pos, preload_content, decode_content, **response_kw)\u001b[0m\n\u001b[0;32m    788\u001b[0m response_conn \u001b[39m=\u001b[39m conn \u001b[39mif\u001b[39;00m \u001b[39mnot\u001b[39;00m release_conn \u001b[39melse\u001b[39;00m \u001b[39mNone\u001b[39;00m\n\u001b[0;32m    790\u001b[0m \u001b[39m# Make the request on the HTTPConnection object\u001b[39;00m\n\u001b[1;32m--> 791\u001b[0m response \u001b[39m=\u001b[39m \u001b[39mself\u001b[39;49m\u001b[39m.\u001b[39;49m_make_request(\n\u001b[0;32m    792\u001b[0m     conn,\n\u001b[0;32m    793\u001b[0m     method,\n\u001b[0;32m    794\u001b[0m     url,\n\u001b[0;32m    795\u001b[0m     timeout\u001b[39m=\u001b[39;49mtimeout_obj,\n\u001b[0;32m    796\u001b[0m     body\u001b[39m=\u001b[39;49mbody,\n\u001b[0;32m    797\u001b[0m     headers\u001b[39m=\u001b[39;49mheaders,\n\u001b[0;32m    798\u001b[0m     chunked\u001b[39m=\u001b[39;49mchunked,\n\u001b[0;32m    799\u001b[0m     retries\u001b[39m=\u001b[39;49mretries,\n\u001b[0;32m    800\u001b[0m     response_conn\u001b[39m=\u001b[39;49mresponse_conn,\n\u001b[0;32m    801\u001b[0m     preload_content\u001b[39m=\u001b[39;49mpreload_content,\n\u001b[0;32m    802\u001b[0m     decode_content\u001b[39m=\u001b[39;49mdecode_content,\n\u001b[0;32m    803\u001b[0m     \u001b[39m*\u001b[39;49m\u001b[39m*\u001b[39;49mresponse_kw,\n\u001b[0;32m    804\u001b[0m )\n\u001b[0;32m    806\u001b[0m \u001b[39m# Everything went great!\u001b[39;00m\n\u001b[0;32m    807\u001b[0m clean_exit \u001b[39m=\u001b[39m \u001b[39mTrue\u001b[39;00m\n",
      "File \u001b[1;32m~\\AppData\\Roaming\\Python\\Python312\\site-packages\\urllib3\\connectionpool.py:537\u001b[0m, in \u001b[0;36mHTTPConnectionPool._make_request\u001b[1;34m(self, conn, method, url, body, headers, retries, timeout, chunked, response_conn, preload_content, decode_content, enforce_content_length)\u001b[0m\n\u001b[0;32m    535\u001b[0m \u001b[39m# Receive the response from the server\u001b[39;00m\n\u001b[0;32m    536\u001b[0m \u001b[39mtry\u001b[39;00m:\n\u001b[1;32m--> 537\u001b[0m     response \u001b[39m=\u001b[39m conn\u001b[39m.\u001b[39;49mgetresponse()\n\u001b[0;32m    538\u001b[0m \u001b[39mexcept\u001b[39;00m (BaseSSLError, \u001b[39mOSError\u001b[39;00m) \u001b[39mas\u001b[39;00m e:\n\u001b[0;32m    539\u001b[0m     \u001b[39mself\u001b[39m\u001b[39m.\u001b[39m_raise_timeout(err\u001b[39m=\u001b[39me, url\u001b[39m=\u001b[39murl, timeout_value\u001b[39m=\u001b[39mread_timeout)\n",
      "File \u001b[1;32m~\\AppData\\Roaming\\Python\\Python312\\site-packages\\urllib3\\connection.py:461\u001b[0m, in \u001b[0;36mHTTPConnection.getresponse\u001b[1;34m(self)\u001b[0m\n\u001b[0;32m    458\u001b[0m \u001b[39mfrom\u001b[39;00m \u001b[39m.\u001b[39;00m\u001b[39mresponse\u001b[39;00m \u001b[39mimport\u001b[39;00m HTTPResponse\n\u001b[0;32m    460\u001b[0m \u001b[39m# Get the response from http.client.HTTPConnection\u001b[39;00m\n\u001b[1;32m--> 461\u001b[0m httplib_response \u001b[39m=\u001b[39m \u001b[39msuper\u001b[39;49m()\u001b[39m.\u001b[39;49mgetresponse()\n\u001b[0;32m    463\u001b[0m \u001b[39mtry\u001b[39;00m:\n\u001b[0;32m    464\u001b[0m     assert_header_parsing(httplib_response\u001b[39m.\u001b[39mmsg)\n",
      "File \u001b[1;32mc:\\Program Files\\Python312\\Lib\\http\\client.py:1411\u001b[0m, in \u001b[0;36mHTTPConnection.getresponse\u001b[1;34m(self)\u001b[0m\n\u001b[0;32m   1409\u001b[0m \u001b[39mtry\u001b[39;00m:\n\u001b[0;32m   1410\u001b[0m     \u001b[39mtry\u001b[39;00m:\n\u001b[1;32m-> 1411\u001b[0m         response\u001b[39m.\u001b[39;49mbegin()\n\u001b[0;32m   1412\u001b[0m     \u001b[39mexcept\u001b[39;00m \u001b[39mConnectionError\u001b[39;00m:\n\u001b[0;32m   1413\u001b[0m         \u001b[39mself\u001b[39m\u001b[39m.\u001b[39mclose()\n",
      "File \u001b[1;32mc:\\Program Files\\Python312\\Lib\\http\\client.py:324\u001b[0m, in \u001b[0;36mHTTPResponse.begin\u001b[1;34m(self)\u001b[0m\n\u001b[0;32m    322\u001b[0m \u001b[39m# read until we get a non-100 response\u001b[39;00m\n\u001b[0;32m    323\u001b[0m \u001b[39mwhile\u001b[39;00m \u001b[39mTrue\u001b[39;00m:\n\u001b[1;32m--> 324\u001b[0m     version, status, reason \u001b[39m=\u001b[39m \u001b[39mself\u001b[39;49m\u001b[39m.\u001b[39;49m_read_status()\n\u001b[0;32m    325\u001b[0m     \u001b[39mif\u001b[39;00m status \u001b[39m!=\u001b[39m CONTINUE:\n\u001b[0;32m    326\u001b[0m         \u001b[39mbreak\u001b[39;00m\n",
      "File \u001b[1;32mc:\\Program Files\\Python312\\Lib\\http\\client.py:285\u001b[0m, in \u001b[0;36mHTTPResponse._read_status\u001b[1;34m(self)\u001b[0m\n\u001b[0;32m    284\u001b[0m \u001b[39mdef\u001b[39;00m \u001b[39m_read_status\u001b[39m(\u001b[39mself\u001b[39m):\n\u001b[1;32m--> 285\u001b[0m     line \u001b[39m=\u001b[39m \u001b[39mstr\u001b[39m(\u001b[39mself\u001b[39;49m\u001b[39m.\u001b[39;49mfp\u001b[39m.\u001b[39;49mreadline(_MAXLINE \u001b[39m+\u001b[39;49m \u001b[39m1\u001b[39;49m), \u001b[39m\"\u001b[39m\u001b[39miso-8859-1\u001b[39m\u001b[39m\"\u001b[39m)\n\u001b[0;32m    286\u001b[0m     \u001b[39mif\u001b[39;00m \u001b[39mlen\u001b[39m(line) \u001b[39m>\u001b[39m _MAXLINE:\n\u001b[0;32m    287\u001b[0m         \u001b[39mraise\u001b[39;00m LineTooLong(\u001b[39m\"\u001b[39m\u001b[39mstatus line\u001b[39m\u001b[39m\"\u001b[39m)\n",
      "File \u001b[1;32mc:\\Program Files\\Python312\\Lib\\socket.py:707\u001b[0m, in \u001b[0;36mSocketIO.readinto\u001b[1;34m(self, b)\u001b[0m\n\u001b[0;32m    705\u001b[0m \u001b[39mwhile\u001b[39;00m \u001b[39mTrue\u001b[39;00m:\n\u001b[0;32m    706\u001b[0m     \u001b[39mtry\u001b[39;00m:\n\u001b[1;32m--> 707\u001b[0m         \u001b[39mreturn\u001b[39;00m \u001b[39mself\u001b[39;49m\u001b[39m.\u001b[39;49m_sock\u001b[39m.\u001b[39;49mrecv_into(b)\n\u001b[0;32m    708\u001b[0m     \u001b[39mexcept\u001b[39;00m timeout:\n\u001b[0;32m    709\u001b[0m         \u001b[39mself\u001b[39m\u001b[39m.\u001b[39m_timeout_occurred \u001b[39m=\u001b[39m \u001b[39mTrue\u001b[39;00m\n",
      "File \u001b[1;32mc:\\Program Files\\Python312\\Lib\\ssl.py:1249\u001b[0m, in \u001b[0;36mSSLSocket.recv_into\u001b[1;34m(self, buffer, nbytes, flags)\u001b[0m\n\u001b[0;32m   1245\u001b[0m     \u001b[39mif\u001b[39;00m flags \u001b[39m!=\u001b[39m \u001b[39m0\u001b[39m:\n\u001b[0;32m   1246\u001b[0m         \u001b[39mraise\u001b[39;00m \u001b[39mValueError\u001b[39;00m(\n\u001b[0;32m   1247\u001b[0m           \u001b[39m\"\u001b[39m\u001b[39mnon-zero flags not allowed in calls to recv_into() on \u001b[39m\u001b[39m%s\u001b[39;00m\u001b[39m\"\u001b[39m \u001b[39m%\u001b[39m\n\u001b[0;32m   1248\u001b[0m           \u001b[39mself\u001b[39m\u001b[39m.\u001b[39m\u001b[39m__class__\u001b[39m)\n\u001b[1;32m-> 1249\u001b[0m     \u001b[39mreturn\u001b[39;00m \u001b[39mself\u001b[39;49m\u001b[39m.\u001b[39;49mread(nbytes, buffer)\n\u001b[0;32m   1250\u001b[0m \u001b[39melse\u001b[39;00m:\n\u001b[0;32m   1251\u001b[0m     \u001b[39mreturn\u001b[39;00m \u001b[39msuper\u001b[39m()\u001b[39m.\u001b[39mrecv_into(buffer, nbytes, flags)\n",
      "File \u001b[1;32mc:\\Program Files\\Python312\\Lib\\ssl.py:1105\u001b[0m, in \u001b[0;36mSSLSocket.read\u001b[1;34m(self, len, buffer)\u001b[0m\n\u001b[0;32m   1103\u001b[0m \u001b[39mtry\u001b[39;00m:\n\u001b[0;32m   1104\u001b[0m     \u001b[39mif\u001b[39;00m buffer \u001b[39mis\u001b[39;00m \u001b[39mnot\u001b[39;00m \u001b[39mNone\u001b[39;00m:\n\u001b[1;32m-> 1105\u001b[0m         \u001b[39mreturn\u001b[39;00m \u001b[39mself\u001b[39;49m\u001b[39m.\u001b[39;49m_sslobj\u001b[39m.\u001b[39;49mread(\u001b[39mlen\u001b[39;49m, buffer)\n\u001b[0;32m   1106\u001b[0m     \u001b[39melse\u001b[39;00m:\n\u001b[0;32m   1107\u001b[0m         \u001b[39mreturn\u001b[39;00m \u001b[39mself\u001b[39m\u001b[39m.\u001b[39m_sslobj\u001b[39m.\u001b[39mread(\u001b[39mlen\u001b[39m)\n",
      "\u001b[1;31mKeyboardInterrupt\u001b[0m: "
     ]
    }
   ],
   "source": [
    "import requests\n",
    "import time\n",
    "\n",
    "while True:\n",
    "    req = requests.get(\"https://www.amazon.com.br/asdasda-adasdasd-English-asdasdas-asdasdasd-ebook/dp/B07Q394C2Gdd\")\n",
    "    print(req.status_code)\n",
    "    if req.status_code !=200:\n",
    "        print(\"erro\")\n",
    "        pass\n",
    "    time.sleep(0.001)"
   ]
  },
  {
   "cell_type": "code",
   "execution_count": 30,
   "metadata": {},
   "outputs": [
    {
     "name": "stdout",
     "output_type": "stream",
     "text": [
      "{'name': 'C-3PO', 'height': '167', 'mass': '75', 'hair_color': 'n/a', 'skin_color': 'gold', 'eye_color': 'yellow', 'birth_year': '112BBY', 'gender': 'n/a', 'homeworld': 'https://swapi.dev/api/planets/1/', 'films': ['https://swapi.dev/api/films/1/', 'https://swapi.dev/api/films/2/', 'https://swapi.dev/api/films/3/', 'https://swapi.dev/api/films/4/', 'https://swapi.dev/api/films/5/', 'https://swapi.dev/api/films/6/'], 'species': ['https://swapi.dev/api/species/2/'], 'vehicles': [], 'starships': [], 'created': '2014-12-10T15:10:51.357000Z', 'edited': '2014-12-20T21:17:50.309000Z', 'url': 'https://swapi.dev/api/people/2/'}\n",
      "<class 'dict'>\n",
      "Name: C-3PO\n",
      "Mass: 75\n",
      "Link dos filmes:['https://swapi.dev/api/films/1/', 'https://swapi.dev/api/films/2/', 'https://swapi.dev/api/films/3/', 'https://swapi.dev/api/films/4/', 'https://swapi.dev/api/films/5/', 'https://swapi.dev/api/films/6/']\n",
      "A New Hope\n",
      "The Empire Strikes Back\n",
      "Return of the Jedi\n",
      "The Phantom Menace\n",
      "Attack of the Clones\n",
      "Revenge of the Sith\n"
     ]
    }
   ],
   "source": [
    "import requests # Fazer sempre o import do módulo utilizado\n",
    "\n",
    "req = requests.get(\"https://swapi.dev/api/people/2/\") # Faz o request dos dados nesse domínio\n",
    "person = req.json()  # Converte o request para o formato JSON (JavaScript Object Notation)\n",
    "print(person) # Imprime o objeto todo\n",
    "print(type(person)) # JSON aparece num formato dictionary, em Python\n",
    "\n",
    "print(f\"Name: {person[\"name\"]}\") # Imprime a propriedade \"name\" do objeto (person)\n",
    "print(f\"Mass: {person[\"mass\"]}\") # Imprime a propriedade \"mass\" do objeto (person)\n",
    "print(f\"Link dos filmes:{person[\"films\"]}\") # Imprime a propriedade \"films\" do objeto (person)\n",
    "\n",
    "for film in person[\"films\"]: # Para cada elemento (denominado, neste caso, como \"film\"), na propriedade \"films\" do objeto \"person\" faz isto:\n",
    "    req = requests.get(film) # Faz o request dos dados nesse domínio, neste caso é uma variável \"film\", logo, varia e serão vários os requests devolvidos\n",
    "    nome_filme = req.json() # Converte cada um dos requests para o formato JSON (JavaScript Object Notation)\n",
    "    print (nome_filme[\"title\"]) # Imprime a propriedade \"title\" (dos filmes) de cada um dos objetos (em que cada um tem mais propriedades além do título, já que são filmes)\n"
   ]
  },
  {
   "cell_type": "code",
   "execution_count": 27,
   "metadata": {},
   "outputs": [
    {
     "name": "stdout",
     "output_type": "stream",
     "text": [
      "<class 'str'>\n",
      "{'name': 'John', 'age': 30, 'city': 'New York'}\n",
      "<class 'dict'>\n",
      "30\n",
      "{'name': 'John', 'age': 30, 'city': 'Lisboa'}\n",
      "{\"name\": \"John\", \"age\": 30, \"city\": \"Lisboa\"}\n",
      "<class 'str'>\n"
     ]
    }
   ],
   "source": [
    "import json # Fazer sempre o import do módulo utilizado\n",
    "\n",
    "c3p0 = '{\"name\":\"John\", \"age\":30, \"city\":\"New York\"}' # c3p0 = uma string\n",
    "\n",
    "print(type(c3p0)) # Mostra que c3p0 é uma string \"<class 'str'>\"\n",
    "\n",
    "c3p0 = json.loads(c3p0) # Função que transforma a string c3po num dictionary (um array), que é o formato JSON\n",
    "print(c3p0)\n",
    "print(type(c3p0)) # Mostra que c3p0 é um dictionary \"<class 'dict'>\" (note-se também que lá dentro ela agora tem apostrofes individuais \" ' \")\n",
    "print(c3p0[\"age\"]) # Sendo um dictionary, já se pode aceder aos elementos por indexação, logo, isto não dá erro e devolve o valor desse key-value\n",
    "\n",
    "c3p0[\"city\"] = \"Lisboa\" # Sendo um dictionary, podemos mudar elementos\n",
    "print(c3p0) # Note-se a propriedade \"city\", mudada de \"New York\" para \"Lisboa\", como foi definido anteriormente\n",
    "\n",
    "c3p0_new=json.dumps(c3p0) # Função que transforma o dictionary (em formato JSON) em uma string novamente - é atribuída a uma nova variável\n",
    "print(c3p0_new)\n",
    "print(type(c3p0_new)) # Mostra que c3p0_new é (novamente uma string) \"<class 'str'>\" (note-se também que lá dentro ela agora tem apostrofes agrupados \" \"' \")"
   ]
  },
  {
   "cell_type": "code",
   "execution_count": 53,
   "metadata": {},
   "outputs": [
    {
     "name": "stdout",
     "output_type": "stream",
     "text": [
      "['um']\n",
      "['um', 'dois']\n",
      "['um', 'dois', 'trÊs']\n",
      "['um', 'dois', 'trÊs', 4]\n",
      "['um', 'dois', 'trÊs', 4, 5]\n",
      "['um', 'dois', 'trÊs', 4, 5, 'seis']\n"
     ]
    }
   ],
   "source": [
    "def multiply(*args):\n",
    "    total=[]\n",
    "    for num in args:\n",
    "        conta = num\n",
    "        total.append(conta)\n",
    "        print(total)\n",
    "\n",
    "multiply(\"um\",\"dois\", \"trÊs\", 4, 5, \"seis\")\n"
   ]
  },
  {
   "cell_type": "code",
   "execution_count": 70,
   "metadata": {},
   "outputs": [
    {
     "name": "stdout",
     "output_type": "stream",
     "text": [
      "O leão tem índice 1\n",
      "O urso tem índice 2\n",
      "O raposa tem índice 3\n",
      "O águia tem índice 4\n",
      "O golfinho tem índice 5\n"
     ]
    }
   ],
   "source": [
    "zoo = [\"leão\",\"urso\",\"raposa\",\"águia\", \"golfinho\"]\n",
    "\n",
    "for index, animais in enumerate(zoo):\n",
    "    print(f\"O {animais} tem índice {index+1}\")"
   ]
  },
  {
   "cell_type": "code",
   "execution_count": 2,
   "metadata": {},
   "outputs": [
    {
     "name": "stdout",
     "output_type": "stream",
     "text": [
      "[20, 40, 60, 80, 100]\n"
     ]
    }
   ],
   "source": [
    "nrs = [10,20,30,40,50] #Lista (array) de números\n",
    "\n",
    "nrs_dupli = [elemento * 2 for elemento in nrs if elemento>0] # Faz \"elemento * 2\" para cada um dos elementos da lista, se o elemento utilizado for maior do que zero\n",
    "print(nrs_dupli) # Printa o resultado do list comprehension"
   ]
  },
  {
   "cell_type": "code",
   "execution_count": 22,
   "metadata": {},
   "outputs": [
    {
     "name": "stdout",
     "output_type": "stream",
     "text": [
      "{'marca': 'jaguar', 'ano': '1998', 'cor': 'preto', 'preço': 'luxoso'}\n",
      "<class 'dict'>\n"
     ]
    }
   ],
   "source": [
    "propriedades_do_carro =[(\"marca\", \"jaguar\"),(\"ano\",\"1998\"),(\"cor\", \"preto\"),(\"preço\",\"luxoso\")] # Isto é array (list), cujos elementos são tupples\n",
    "\n",
    "dictionary_a_partir_de_um_array = {key:value for key, value in propriedades_do_carro} # Isto converte o array num unico dictionary(\"objeto\" em JavaScript) através de um ciclo for (a versão escrita é a abreviada)\n",
    "print(dictionary_a_partir_de_um_array) # Printa o dictionary\n",
    "print(type(dictionary_a_partir_de_um_array)) # Mostra que, realmente, o resultado impresso é do tipo dictionary <class 'dict'>"
   ]
  },
  {
   "cell_type": "code",
   "execution_count": 43,
   "metadata": {},
   "outputs": [],
   "source": [
    "propriedades_do_carro = {\n",
    "    \"marca\": \"jaguar\",\n",
    "    \"ano\": \"1998\",\n",
    "    \"cor\": \"preto\",\n",
    "    \"preço\":\"luxoso\"} #Isto é um dictionary (objeto, em JavaScript)\n",
    "\n",
    "if propriedades_do_carro.get(\"numero de farois\", None): # Isto é uma maneira de saber se o objeto tem uma determinada propriedade. Se o get conseguir encontrar o que está no primeiro argumento: executa a linha a seguir, a confirmação de que existe essa propriedade.\n",
    "    print(\"Esta propriedade existe\") # Se o get não conseguir obter a propriedade que está no primeiro objeto, ele executa o None, e o programa não faz nada!"
   ]
  },
  {
   "cell_type": "code",
   "execution_count": 6,
   "metadata": {},
   "outputs": [
    {
     "name": "stdout",
     "output_type": "stream",
     "text": [
      "b\n"
     ]
    }
   ],
   "source": [
    "fruit = \"banana\"\n",
    "x = fruit[0]\n",
    "\n",
    "print(x)"
   ]
  },
  {
   "cell_type": "code",
   "execution_count": null,
   "metadata": {},
   "outputs": [],
   "source": [
    "class Animal:\n",
    "    fur_color = \"Orange\"\n",
    "\n",
    "    def speak(self):\n",
    "        print(\"Raawwwwrr\")\n",
    "\n",
    "    def eat(self):\n",
    "        pass\n",
    "\n",
    "    def chase(self):\n",
    "        pass\n",
    "\n",
    "tiger = Animal()\n",
    "tiger.speak()\n"
   ]
  },
  {
   "cell_type": "code",
   "execution_count": 37,
   "metadata": {},
   "outputs": [
    {
     "name": "stdout",
     "output_type": "stream",
     "text": [
      "   32\n",
      "+ 698\n",
      "-----\n",
      "730\n",
      "\n",
      " 3801\n",
      "- 2\n",
      "-----\n",
      "3799 \n",
      "\n",
      "\n",
      "   45\n",
      "+ 43\n",
      "-----\n",
      "88\n",
      "\n",
      "  123\n",
      "+ 49\n",
      "-----\n",
      "172\n",
      "\n"
     ]
    }
   ],
   "source": [
    "def arithmetic_arranger (array, show=False):\n",
    "    i = 0\n",
    "    while i < len(array):\n",
    "        div=array[i]\n",
    "        result = div.split(' ')\n",
    "        # print(result[0].rjust(5))\n",
    "        print(f\"{result[0].rjust(5)}\")\n",
    "        print(f\"{result[1]} {result[2]}\")\n",
    "        print(\"-----\")\n",
    "        \n",
    "        # print(\"-----\", end=\"-\")\n",
    "        if show==True and result[1] == \"+\":\n",
    "            operacao = int(result[0]) + int(result[2])\n",
    "            print(operacao)\n",
    "        elif show==True and result[1] == \"-\":\n",
    "            operacao = int(result[0]) - int(result[2])\n",
    "            print (f\"{operacao} \\n\")\n",
    "        print(\"\")  \n",
    "        i += 1\n",
    "\n",
    "arithmetic_arranger([\"32 + 698\", \"3801 - 2\", \"45 + 43\", \"123 + 49\"], True)"
   ]
  },
  {
   "cell_type": "code",
   "execution_count": 61,
   "metadata": {},
   "outputs": [
    {
     "name": "stdout",
     "output_type": "stream",
     "text": [
      "Erro: um dos inputs não é um número!\n"
     ]
    }
   ],
   "source": [
    "# try and except Python: \n",
    "# You try something, if it's okay, it executes that block of code in \"try\".\n",
    "# If that doesn't work, it throws an error (on why it doesn't work) and uses that error looking in the \"except\" blocks that do something for that specific error (ValueError, ZeroDivisionError).\n",
    "# If it is an error that it's not on one of those \"except\", then it executes the \"except Exception\", that it's like a general error (or an else, in if/elif/else statments), that's executed if no other \"except\" error it's there to run as block of code\n",
    "\n",
    "numb1 = input(\"Escolhe um número:\")\n",
    "numb2 = input(\"Escolhe um segundo número\")\n",
    "\n",
    "try:\n",
    "    number1 = int(numb1)\n",
    "    number2 = int(numb2)\n",
    "    total = number1/number2\n",
    "    print(\"A divisão dos dois números é:\", total)\n",
    "except ValueError:\n",
    "    print(\"Erro: um dos inputs não é um número!\")\n",
    "except ZeroDivisionError:\n",
    "    print(\"Erro: Um dos números é zero!\")\n",
    "except Exception as excepcao:\n",
    "    print(type(excepcao))\n",
    "    print (\"É um outro erro\")"
   ]
  }
 ],
 "metadata": {
  "kernelspec": {
   "display_name": "Python 3",
   "language": "python",
   "name": "python3"
  },
  "language_info": {
   "codemirror_mode": {
    "name": "ipython",
    "version": 3
   },
   "file_extension": ".py",
   "mimetype": "text/x-python",
   "name": "python",
   "nbconvert_exporter": "python",
   "pygments_lexer": "ipython3",
   "version": "3.12.0"
  }
 },
 "nbformat": 4,
 "nbformat_minor": 2
}
